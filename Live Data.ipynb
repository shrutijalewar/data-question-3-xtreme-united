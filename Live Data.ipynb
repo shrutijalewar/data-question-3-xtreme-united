{
 "cells": [
  {
   "cell_type": "code",
   "execution_count": 1,
   "metadata": {
    "collapsed": true
   },
   "outputs": [],
   "source": [
    "import json\n",
    "import requests\n",
    "import urllib.request\n",
    "import geopandas as gpd\n",
    "from geopandas import GeoDataFrame\n",
    "import pandas as pd\n",
    "import fiona\n",
    "import matplotlib.pylab as pylab\n",
    "import matplotlib.pyplot as plt\n",
    "from shapely.geometry import Point\n",
    "import mplleaflet"
   ]
  },
  {
   "cell_type": "code",
   "execution_count": 2,
   "metadata": {
    "collapsed": true
   },
   "outputs": [],
   "source": [
    "response = requests.get('https://earthquake.usgs.gov/fdsnws/event/1/query?format=geojson&minmagnitude=6.0&orderby=time&limit=1000')"
   ]
  },
  {
   "cell_type": "code",
   "execution_count": 3,
   "metadata": {},
   "outputs": [
    {
     "name": "stdout",
     "output_type": "stream",
     "text": [
      "200\n"
     ]
    }
   ],
   "source": [
    "print(response.status_code)"
   ]
  },
  {
   "cell_type": "code",
   "execution_count": 4,
   "metadata": {
    "collapsed": true
   },
   "outputs": [],
   "source": [
    "live_eq = response.content"
   ]
  },
  {
   "cell_type": "code",
   "execution_count": 5,
   "metadata": {},
   "outputs": [
    {
     "name": "stdout",
     "output_type": "stream",
     "text": [
      "   alert  cdi      code                                             detail  \\\n",
      "0         0.0  37823535  https://earthquake.usgs.gov/fdsnws/event/1/que...   \n",
      "1         0.0  37823527  https://earthquake.usgs.gov/fdsnws/event/1/que...   \n",
      "2         0.0  00614421  https://earthquake.usgs.gov/fdsnws/event/1/que...   \n",
      "3         0.0  72935566  https://earthquake.usgs.gov/fdsnws/event/1/que...   \n",
      "4         0.0  80273344  https://earthquake.usgs.gov/fdsnws/event/1/que...   \n",
      "5         3.1  1000bmkc  https://earthquake.usgs.gov/fdsnws/event/1/que...   \n",
      "6         0.0  80273339  https://earthquake.usgs.gov/fdsnws/event/1/que...   \n",
      "7         0.0  61997501  https://earthquake.usgs.gov/fdsnws/event/1/que...   \n",
      "8         0.0  17483241  https://earthquake.usgs.gov/fdsnws/event/1/que...   \n",
      "9         0.0  17483235  https://earthquake.usgs.gov/fdsnws/event/1/que...   \n",
      "10        0.0  72935561  https://earthquake.usgs.gov/fdsnws/event/1/que...   \n",
      "11        0.0  72935556  https://earthquake.usgs.gov/fdsnws/event/1/que...   \n",
      "12        1.0  17483219  https://earthquake.usgs.gov/fdsnws/event/1/que...   \n",
      "13        3.1  72935551  https://earthquake.usgs.gov/fdsnws/event/1/que...   \n",
      "14        0.0  17483214  https://earthquake.usgs.gov/fdsnws/event/1/que...   \n",
      "15        0.0  1000bmjn  https://earthquake.usgs.gov/fdsnws/event/1/que...   \n",
      "16        0.0  37823519  https://earthquake.usgs.gov/fdsnws/event/1/que...   \n",
      "17        0.0  37823503  https://earthquake.usgs.gov/fdsnws/event/1/que...   \n",
      "18        0.0  72935546  https://earthquake.usgs.gov/fdsnws/event/1/que...   \n",
      "19        0.0  61333437  https://earthquake.usgs.gov/fdsnws/event/1/que...   \n",
      "\n",
      "        dmin  felt     gap                                          geometry  \\\n",
      "0   0.063940     0   57.00            POINT Z (-116.7863333 33.5161667 7.11)   \n",
      "1   0.298500     0  119.00  POINT Z (-117.3625 33.8598333 96.01000000000001)   \n",
      "2   0.064000     0   83.23                   POINT Z (-116.3995 37.1793 9.6)   \n",
      "3   0.001540     0  102.00            POINT Z (-122.7348328 38.7836685 1.93)   \n",
      "4   0.165000     0  191.00            POINT Z (-111.0861667 43.6256667 2.08)   \n",
      "5   0.124000     2   41.00         POINT Z (-97.16070000000001 35.6561 6.69)   \n",
      "6   0.167000     0   89.00                 POINT Z (-111.0941667 43.623 1.8)   \n",
      "7   0.000000     0  141.00            POINT Z (-155.1224976 19.3321667 6.86)   \n",
      "8   0.000000     0    0.00                     POINT Z (-141.1609 61.3737 0)   \n",
      "9   0.000000     0    0.00                  POINT Z (-152.9909 59.7401 95.8)   \n",
      "10  0.009423     0   53.00             POINT Z (-122.7770004 38.822834 1.56)   \n",
      "11  0.145700     0  137.00            POINT Z (-123.0106667 39.9256667 2.77)   \n",
      "12  0.000000     1    0.00     POINT Z (-151.6096 60.8398 68.40000000000001)   \n",
      "13  0.132000     2  168.00           POINT Z (-124.0595016 40.6873322 17.94)   \n",
      "14  0.000000     0    0.00                     POINT Z (-132.8102 57.4793 6)   \n",
      "15  0.835000     0  184.00                    POINT Z (-130.5891 51.5491 10)   \n",
      "16  0.039550     0   31.00           POINT Z (-116.7331667 33.6748333 14.85)   \n",
      "17  0.047310     0   28.00               POINT Z (-116.7271667 33.665 11.64)   \n",
      "18  0.096720     0  106.00            POINT Z (-118.9886667 37.5166667 2.88)   \n",
      "19  0.022690     0  152.00                POINT Z (-121.7605 46.8551667 1.8)   \n",
      "\n",
      "            id                      ids  \\\n",
      "0   ci37823535             ,ci37823535,   \n",
      "1   ci37823527             ,ci37823527,   \n",
      "2   nn00614421             ,nn00614421,   \n",
      "3   nc72935566             ,nc72935566,   \n",
      "4   mb80273344             ,mb80273344,   \n",
      "5   us1000bmkc             ,us1000bmkc,   \n",
      "6   mb80273339             ,mb80273339,   \n",
      "7   hv61997501             ,hv61997501,   \n",
      "8   ak17483241             ,ak17483241,   \n",
      "9   ak17483235             ,ak17483235,   \n",
      "10  nc72935561             ,nc72935561,   \n",
      "11  nc72935556             ,nc72935556,   \n",
      "12  ak17483219  ,ak17483219,us1000bmjy,   \n",
      "13  nc72935551             ,nc72935551,   \n",
      "14  ak17483214             ,ak17483214,   \n",
      "15  us1000bmjn             ,us1000bmjn,   \n",
      "16  ci37823519             ,ci37823519,   \n",
      "17  ci37823503             ,ci37823503,   \n",
      "18  nc72935546             ,nc72935546,   \n",
      "19  uw61333437             ,uw61333437,   \n",
      "\n",
      "                          ...                          sources     status  \\\n",
      "0                         ...                             ,ci,  automatic   \n",
      "1                         ...                             ,ci,  automatic   \n",
      "2                         ...                             ,nn,   reviewed   \n",
      "3                         ...                             ,nc,  automatic   \n",
      "4                         ...                             ,mb,   reviewed   \n",
      "5                         ...                             ,us,   reviewed   \n",
      "6                         ...                             ,mb,   reviewed   \n",
      "7                         ...                             ,hv,  automatic   \n",
      "8                         ...                             ,ak,  automatic   \n",
      "9                         ...                             ,ak,  automatic   \n",
      "10                        ...                             ,nc,  automatic   \n",
      "11                        ...                             ,nc,   reviewed   \n",
      "12                        ...                          ,ak,us,   reviewed   \n",
      "13                        ...                             ,nc,  automatic   \n",
      "14                        ...                             ,ak,   reviewed   \n",
      "15                        ...                             ,us,   reviewed   \n",
      "16                        ...                             ,ci,  automatic   \n",
      "17                        ...                             ,ci,  automatic   \n",
      "18                        ...                             ,nc,   reviewed   \n",
      "19                        ...                             ,uw,   reviewed   \n",
      "\n",
      "             time                                       title  tsunami  \\\n",
      "0   1512516761940              M 0.7 - 11km NE of Aguanga, CA        0   \n",
      "1   1512516432330              M 2.1 - 2km S of Woodcrest, CA        0   \n",
      "2   1512515610376           M 0.3 - 43km NE of Beatty, Nevada        0   \n",
      "3   1512515475540          M 0.9 - 2km ENE of The Geysers, CA        0   \n",
      "4   1512515372770             M 1.4 - 3km NE of Victor, Idaho        0   \n",
      "5   1512515199780           M 2.4 - 3km E of Luther, Oklahoma        0   \n",
      "6   1512515131420            M 2.4 - 2km NNE of Victor, Idaho        0   \n",
      "7   1512514946670          M 2.0 - 16km SE of Volcano, Hawaii        0   \n",
      "8   1512514667786  M 2.0 - 161km NNE of Cape Yakataga, Alaska        0   \n",
      "9   1512514185547      M 2.3 - 65km W of Anchor Point, Alaska        0   \n",
      "10  1512514100350                   M 1.4 - 5km W of Cobb, CA        0   \n",
      "11  1512513254870               M 1.2 - 25km NE of Covelo, CA        0   \n",
      "12  1512513074958          M 3.4 - 24km NW of Nikiski, Alaska        0   \n",
      "13  1512513067640           M 2.4 - 9km ESE of Pine Hills, CA        0   \n",
      "14  1512512753929        M 2.3 - 74km N of Petersburg, Alaska        0   \n",
      "15  1512512056220    M 4.0 - 183km WSW of Bella Bella, Canada        0   \n",
      "16  1512511454530              M 1.7 - 7km S of Idyllwild, CA        0   \n",
      "17  1512511373780              M 1.5 - 8km S of Idyllwild, CA        0   \n",
      "18  1512510725330         M 1.0 - 13km S of Mammoth Lakes, CA        0   \n",
      "19  1512509956840    M 0.4 - 28km NNW of Packwood, Washington        0   \n",
      "\n",
      "          type                                              types   tz  \\\n",
      "0   earthquake  ,geoserve,nearby-cities,origin,phase-data,scit... -480   \n",
      "1   earthquake  ,geoserve,nearby-cities,origin,phase-data,scit... -480   \n",
      "2   earthquake                       ,geoserve,origin,phase-data, -480   \n",
      "3   earthquake  ,geoserve,nearby-cities,origin,phase-data,scit... -480   \n",
      "4   earthquake                       ,geoserve,origin,phase-data, -420   \n",
      "5   earthquake                  ,dyfi,geoserve,origin,phase-data, -360   \n",
      "6   earthquake                       ,geoserve,origin,phase-data, -420   \n",
      "7   earthquake                       ,geoserve,origin,phase-data, -600   \n",
      "8   earthquake                                  ,geoserve,origin, -540   \n",
      "9   earthquake                                  ,geoserve,origin, -540   \n",
      "10  earthquake  ,geoserve,nearby-cities,origin,phase-data,scit... -480   \n",
      "11  earthquake  ,geoserve,nearby-cities,origin,phase-data,scit... -480   \n",
      "12  earthquake                  ,dyfi,geoserve,origin,phase-data, -540   \n",
      "13  earthquake  ,dyfi,geoserve,nearby-cities,origin,phase-data... -480   \n",
      "14  earthquake                       ,geoserve,origin,phase-data, -540   \n",
      "15  earthquake                       ,geoserve,origin,phase-data, -540   \n",
      "16  earthquake  ,focal-mechanism,geoserve,nearby-cities,origin... -480   \n",
      "17  earthquake  ,focal-mechanism,geoserve,nearby-cities,origin... -480   \n",
      "18  earthquake  ,geoserve,nearby-cities,origin,phase-data,scit... -480   \n",
      "19  earthquake                       ,geoserve,origin,phase-data, -480   \n",
      "\n",
      "          updated                                                url  \n",
      "0   1512516982736  https://earthquake.usgs.gov/earthquakes/eventp...  \n",
      "1   1512516660691  https://earthquake.usgs.gov/earthquakes/eventp...  \n",
      "2   1512516422512  https://earthquake.usgs.gov/earthquakes/eventp...  \n",
      "3   1512516122901  https://earthquake.usgs.gov/earthquakes/eventp...  \n",
      "4   1512517130860  https://earthquake.usgs.gov/earthquakes/eventp...  \n",
      "5   1512517925001  https://earthquake.usgs.gov/earthquakes/eventp...  \n",
      "6   1512516823580  https://earthquake.usgs.gov/earthquakes/eventp...  \n",
      "7   1512515290610  https://earthquake.usgs.gov/earthquakes/eventp...  \n",
      "8   1512515461746  https://earthquake.usgs.gov/earthquakes/eventp...  \n",
      "9   1512514465375  https://earthquake.usgs.gov/earthquakes/eventp...  \n",
      "10  1512516902931  https://earthquake.usgs.gov/earthquakes/eventp...  \n",
      "11  1512515642875  https://earthquake.usgs.gov/earthquakes/eventp...  \n",
      "12  1512516716316  https://earthquake.usgs.gov/earthquakes/eventp...  \n",
      "13  1512514985276  https://earthquake.usgs.gov/earthquakes/eventp...  \n",
      "14  1512517140127  https://earthquake.usgs.gov/earthquakes/eventp...  \n",
      "15  1512513104040  https://earthquake.usgs.gov/earthquakes/eventp...  \n",
      "16  1512512133280  https://earthquake.usgs.gov/earthquakes/eventp...  \n",
      "17  1512512009880  https://earthquake.usgs.gov/earthquakes/eventp...  \n",
      "18  1512514984527  https://earthquake.usgs.gov/earthquakes/eventp...  \n",
      "19  1512512981160  https://earthquake.usgs.gov/earthquakes/eventp...  \n",
      "\n",
      "[20 rows x 28 columns]\n"
     ]
    }
   ],
   "source": [
    "## API site: https://earthquake.usgs.gov/fdsnws/event/1/#format-geojson\n",
    "\n",
    "url = 'https://earthquake.usgs.gov/fdsnws/event/1/query?format=geojson&orderby=time&limit=1000'\n",
    "request = requests.get(url)\n",
    "b = bytes(request.content)\n",
    "with fiona.BytesCollection(b) as f:\n",
    "    crs = f.crs\n",
    "    gdf = gpd.GeoDataFrame.from_features(f, crs=crs)\n",
    "    print(gdf.head(20))"
   ]
  },
  {
   "cell_type": "code",
   "execution_count": 8,
   "metadata": {},
   "outputs": [],
   "source": [
    "eq_df = gdf\n",
    "eq_df.to_csv('/Users/Justin/Code/data-question-3-xtreme-united/eq_api_return.csv')"
   ]
  },
  {
   "cell_type": "code",
   "execution_count": 9,
   "metadata": {
    "scrolled": false
   },
   "outputs": [
    {
     "data": {
      "image/png": "[encoded data removed]",
      "text/plain": [
       "<matplotlib.figure.Figure at 0x1162c1438>"
      ]
     },
     "metadata": {},
     "output_type": "display_data"
    }
   ],
   "source": [
    "pylab.rcParams['figure.figsize'] = 25, 25\n",
    "\n",
    "eq_df.plot()\n",
    "plt.show()"
   ]
  },
  {
   "cell_type": "code",
   "execution_count": null,
   "metadata": {
    "collapsed": true
   },
   "outputs": [],
   "source": [
    "world = gpd.GeoDataFrame.from_file('/Users/Justin/Code/data-question-3-xtreme-united/world.shp')"
   ]
  },
  {
   "cell_type": "code",
   "execution_count": null,
   "metadata": {
    "collapsed": true
   },
   "outputs": [],
   "source": [
    "# pylab.rcParams['figure.figsize'] = 25, 25\n",
    "# base = world.plot(color='black', edgecolor='grey')\n",
    "\n",
    "# eq_df.plot(ax=base, marker='o', column ='mag', cmap = 'autumn', markersize=7);"
   ]
  },
  {
   "cell_type": "code",
   "execution_count": null,
   "metadata": {
    "collapsed": true
   },
   "outputs": [],
   "source": [
    "# plt.show()"
   ]
  },
  {
   "cell_type": "code",
   "execution_count": 10,
   "metadata": {
    "collapsed": true
   },
   "outputs": [],
   "source": [
    "top_eq = pd.DataFrame.from_csv('/Users/Justin/Code/data-question-3-xtreme-united/eq_df.csv')"
   ]
  },
  {
   "cell_type": "code",
   "execution_count": 11,
   "metadata": {},
   "outputs": [
    {
     "data": {
      "text/html": [
       "<div>\n",
       "<style>\n",
       "    .dataframe thead tr:only-child th {\n",
       "        text-align: right;\n",
       "    }\n",
       "\n",
       "    .dataframe thead th {\n",
       "        text-align: left;\n",
       "    }\n",
       "\n",
       "    .dataframe tbody tr th {\n",
       "        vertical-align: top;\n",
       "    }\n",
       "</style>\n",
       "<table border=\"1\" class=\"dataframe\">\n",
       "  <thead>\n",
       "    <tr style=\"text-align: right;\">\n",
       "      <th></th>\n",
       "      <th>origin</th>\n",
       "      <th>country</th>\n",
       "      <th>lat</th>\n",
       "      <th>long</th>\n",
       "      <th>depth_km</th>\n",
       "      <th>magnitude</th>\n",
       "      <th>sec_effects</th>\n",
       "      <th>shaking_death</th>\n",
       "      <th>pde_total</th>\n",
       "      <th>utsu_total</th>\n",
       "      <th>em_total</th>\n",
       "      <th>other_deaths</th>\n",
       "      <th>deaths</th>\n",
       "    </tr>\n",
       "  </thead>\n",
       "  <tbody>\n",
       "    <tr>\n",
       "      <th>1</th>\n",
       "      <td>1900-05-11 17:23</td>\n",
       "      <td>Japan</td>\n",
       "      <td>38.7</td>\n",
       "      <td>141.1</td>\n",
       "      <td>5</td>\n",
       "      <td>7.0</td>\n",
       "      <td>NaN</td>\n",
       "      <td>NaN</td>\n",
       "      <td>NaN</td>\n",
       "      <td>NaN</td>\n",
       "      <td>NaN</td>\n",
       "      <td>NaN</td>\n",
       "      <td>NaN</td>\n",
       "    </tr>\n",
       "    <tr>\n",
       "      <th>2</th>\n",
       "      <td>1900-07-12 06:25</td>\n",
       "      <td>Turkey</td>\n",
       "      <td>40.3</td>\n",
       "      <td>43.1</td>\n",
       "      <td>NaN</td>\n",
       "      <td>5.9</td>\n",
       "      <td>NaN</td>\n",
       "      <td>NaN</td>\n",
       "      <td>NaN</td>\n",
       "      <td>140.0</td>\n",
       "      <td>NaN</td>\n",
       "      <td>NaN</td>\n",
       "      <td>140.0</td>\n",
       "    </tr>\n",
       "    <tr>\n",
       "      <th>3</th>\n",
       "      <td>1900-10-29 09:11</td>\n",
       "      <td>Venezuela</td>\n",
       "      <td>11.0</td>\n",
       "      <td>-66.0</td>\n",
       "      <td>0</td>\n",
       "      <td>7.7</td>\n",
       "      <td>NaN</td>\n",
       "      <td>NaN</td>\n",
       "      <td>NaN</td>\n",
       "      <td>NaN</td>\n",
       "      <td>NaN</td>\n",
       "      <td>NaN</td>\n",
       "      <td>NaN</td>\n",
       "    </tr>\n",
       "    <tr>\n",
       "      <th>4</th>\n",
       "      <td>1901-02-15 00:00</td>\n",
       "      <td>China</td>\n",
       "      <td>26.0</td>\n",
       "      <td>100.1</td>\n",
       "      <td>0</td>\n",
       "      <td>6.5</td>\n",
       "      <td>NaN</td>\n",
       "      <td>NaN</td>\n",
       "      <td>NaN</td>\n",
       "      <td>NaN</td>\n",
       "      <td>NaN</td>\n",
       "      <td>NaN</td>\n",
       "      <td>NaN</td>\n",
       "    </tr>\n",
       "    <tr>\n",
       "      <th>5</th>\n",
       "      <td>1901-03-31 07:11</td>\n",
       "      <td>Bulgaria</td>\n",
       "      <td>43.4</td>\n",
       "      <td>28.7</td>\n",
       "      <td>NaN</td>\n",
       "      <td>6.4</td>\n",
       "      <td>NaN</td>\n",
       "      <td>NaN</td>\n",
       "      <td>NaN</td>\n",
       "      <td>4.0</td>\n",
       "      <td>NaN</td>\n",
       "      <td>NaN</td>\n",
       "      <td>4.0</td>\n",
       "    </tr>\n",
       "  </tbody>\n",
       "</table>\n",
       "</div>"
      ],
      "text/plain": [
       "             origin    country   lat   long depth_km  magnitude sec_effects  \\\n",
       "1  1900-05-11 17:23      Japan  38.7  141.1        5        7.0         NaN   \n",
       "2  1900-07-12 06:25     Turkey  40.3   43.1      NaN        5.9         NaN   \n",
       "3  1900-10-29 09:11  Venezuela  11.0  -66.0        0        7.7         NaN   \n",
       "4  1901-02-15 00:00      China  26.0  100.1        0        6.5         NaN   \n",
       "5  1901-03-31 07:11   Bulgaria  43.4   28.7      NaN        6.4         NaN   \n",
       "\n",
       "   shaking_death  pde_total  utsu_total  em_total  other_deaths  deaths  \n",
       "1            NaN        NaN         NaN       NaN           NaN     NaN  \n",
       "2            NaN        NaN       140.0       NaN           NaN   140.0  \n",
       "3            NaN        NaN         NaN       NaN           NaN     NaN  \n",
       "4            NaN        NaN         NaN       NaN           NaN     NaN  \n",
       "5            NaN        NaN         4.0       NaN           NaN     4.0  "
      ]
     },
     "execution_count": 11,
     "metadata": {},
     "output_type": "execute_result"
    }
   ],
   "source": [
    "top_eq.head()"
   ]
  },
  {
   "cell_type": "code",
   "execution_count": 12,
   "metadata": {
    "collapsed": true
   },
   "outputs": [],
   "source": [
    "geometry = [Point(xy) for xy in zip(top_eq.long, top_eq.lat)]\n",
    "hist_eq_df = top_eq.drop(['long', 'lat'], axis=1)\n",
    "crs = {'init': 'epsg:4326'}\n",
    "gdf = GeoDataFrame(hist_eq_df, crs=crs, geometry=geometry)"
   ]
  },
  {
   "cell_type": "code",
   "execution_count": 13,
   "metadata": {},
   "outputs": [
    {
     "data": {
      "text/html": [
       "<div>\n",
       "<style>\n",
       "    .dataframe thead tr:only-child th {\n",
       "        text-align: right;\n",
       "    }\n",
       "\n",
       "    .dataframe thead th {\n",
       "        text-align: left;\n",
       "    }\n",
       "\n",
       "    .dataframe tbody tr th {\n",
       "        vertical-align: top;\n",
       "    }\n",
       "</style>\n",
       "<table border=\"1\" class=\"dataframe\">\n",
       "  <thead>\n",
       "    <tr style=\"text-align: right;\">\n",
       "      <th></th>\n",
       "      <th>origin</th>\n",
       "      <th>country</th>\n",
       "      <th>depth_km</th>\n",
       "      <th>magnitude</th>\n",
       "      <th>sec_effects</th>\n",
       "      <th>shaking_death</th>\n",
       "      <th>pde_total</th>\n",
       "      <th>utsu_total</th>\n",
       "      <th>em_total</th>\n",
       "      <th>other_deaths</th>\n",
       "      <th>deaths</th>\n",
       "      <th>geometry</th>\n",
       "    </tr>\n",
       "  </thead>\n",
       "  <tbody>\n",
       "    <tr>\n",
       "      <th>1</th>\n",
       "      <td>1900-05-11 17:23</td>\n",
       "      <td>Japan</td>\n",
       "      <td>5</td>\n",
       "      <td>7.0</td>\n",
       "      <td>NaN</td>\n",
       "      <td>NaN</td>\n",
       "      <td>NaN</td>\n",
       "      <td>NaN</td>\n",
       "      <td>NaN</td>\n",
       "      <td>NaN</td>\n",
       "      <td>NaN</td>\n",
       "      <td>POINT (141.1 38.7)</td>\n",
       "    </tr>\n",
       "    <tr>\n",
       "      <th>2</th>\n",
       "      <td>1900-07-12 06:25</td>\n",
       "      <td>Turkey</td>\n",
       "      <td>NaN</td>\n",
       "      <td>5.9</td>\n",
       "      <td>NaN</td>\n",
       "      <td>NaN</td>\n",
       "      <td>NaN</td>\n",
       "      <td>140.0</td>\n",
       "      <td>NaN</td>\n",
       "      <td>NaN</td>\n",
       "      <td>140.0</td>\n",
       "      <td>POINT (43.1 40.3)</td>\n",
       "    </tr>\n",
       "    <tr>\n",
       "      <th>3</th>\n",
       "      <td>1900-10-29 09:11</td>\n",
       "      <td>Venezuela</td>\n",
       "      <td>0</td>\n",
       "      <td>7.7</td>\n",
       "      <td>NaN</td>\n",
       "      <td>NaN</td>\n",
       "      <td>NaN</td>\n",
       "      <td>NaN</td>\n",
       "      <td>NaN</td>\n",
       "      <td>NaN</td>\n",
       "      <td>NaN</td>\n",
       "      <td>POINT (-66 11)</td>\n",
       "    </tr>\n",
       "    <tr>\n",
       "      <th>4</th>\n",
       "      <td>1901-02-15 00:00</td>\n",
       "      <td>China</td>\n",
       "      <td>0</td>\n",
       "      <td>6.5</td>\n",
       "      <td>NaN</td>\n",
       "      <td>NaN</td>\n",
       "      <td>NaN</td>\n",
       "      <td>NaN</td>\n",
       "      <td>NaN</td>\n",
       "      <td>NaN</td>\n",
       "      <td>NaN</td>\n",
       "      <td>POINT (100.1 26)</td>\n",
       "    </tr>\n",
       "    <tr>\n",
       "      <th>5</th>\n",
       "      <td>1901-03-31 07:11</td>\n",
       "      <td>Bulgaria</td>\n",
       "      <td>NaN</td>\n",
       "      <td>6.4</td>\n",
       "      <td>NaN</td>\n",
       "      <td>NaN</td>\n",
       "      <td>NaN</td>\n",
       "      <td>4.0</td>\n",
       "      <td>NaN</td>\n",
       "      <td>NaN</td>\n",
       "      <td>4.0</td>\n",
       "      <td>POINT (28.7 43.4)</td>\n",
       "    </tr>\n",
       "  </tbody>\n",
       "</table>\n",
       "</div>"
      ],
      "text/plain": [
       "             origin    country depth_km  magnitude sec_effects  shaking_death  \\\n",
       "1  1900-05-11 17:23      Japan        5        7.0         NaN            NaN   \n",
       "2  1900-07-12 06:25     Turkey      NaN        5.9         NaN            NaN   \n",
       "3  1900-10-29 09:11  Venezuela        0        7.7         NaN            NaN   \n",
       "4  1901-02-15 00:00      China        0        6.5         NaN            NaN   \n",
       "5  1901-03-31 07:11   Bulgaria      NaN        6.4         NaN            NaN   \n",
       "\n",
       "   pde_total  utsu_total  em_total  other_deaths  deaths            geometry  \n",
       "1        NaN         NaN       NaN           NaN     NaN  POINT (141.1 38.7)  \n",
       "2        NaN       140.0       NaN           NaN   140.0   POINT (43.1 40.3)  \n",
       "3        NaN         NaN       NaN           NaN     NaN      POINT (-66 11)  \n",
       "4        NaN         NaN       NaN           NaN     NaN    POINT (100.1 26)  \n",
       "5        NaN         4.0       NaN           NaN     4.0   POINT (28.7 43.4)  "
      ]
     },
     "execution_count": 13,
     "metadata": {},
     "output_type": "execute_result"
    }
   ],
   "source": [
    "hist_eq_df.head()"
   ]
  },
  {
   "cell_type": "code",
   "execution_count": 14,
   "metadata": {},
   "outputs": [
    {
     "ename": "NameError",
     "evalue": "name 'world' is not defined",
     "output_type": "error",
     "traceback": [
      "\u001b[0;31m---------------------------------------------------------------------------\u001b[0m",
      "\u001b[0;31mNameError\u001b[0m                                 Traceback (most recent call last)",
      "\u001b[0;32m<ipython-input-14-117a79fb7839>\u001b[0m in \u001b[0;36m<module>\u001b[0;34m()\u001b[0m\n\u001b[1;32m      1\u001b[0m \u001b[0mpylab\u001b[0m\u001b[0;34m.\u001b[0m\u001b[0mrcParams\u001b[0m\u001b[0;34m[\u001b[0m\u001b[0;34m'figure.figsize'\u001b[0m\u001b[0;34m]\u001b[0m \u001b[0;34m=\u001b[0m \u001b[0;36m25\u001b[0m\u001b[0;34m,\u001b[0m \u001b[0;36m25\u001b[0m\u001b[0;34m\u001b[0m\u001b[0m\n\u001b[0;32m----> 2\u001b[0;31m \u001b[0mbase\u001b[0m \u001b[0;34m=\u001b[0m \u001b[0mworld\u001b[0m\u001b[0;34m.\u001b[0m\u001b[0mplot\u001b[0m\u001b[0;34m(\u001b[0m\u001b[0mcolor\u001b[0m\u001b[0;34m=\u001b[0m\u001b[0;34m'black'\u001b[0m\u001b[0;34m,\u001b[0m \u001b[0medgecolor\u001b[0m\u001b[0;34m=\u001b[0m\u001b[0;34m'grey'\u001b[0m\u001b[0;34m)\u001b[0m\u001b[0;34m\u001b[0m\u001b[0m\n\u001b[0m\u001b[1;32m      3\u001b[0m \u001b[0;34m\u001b[0m\u001b[0m\n\u001b[1;32m      4\u001b[0m \u001b[0meq_df\u001b[0m\u001b[0;34m.\u001b[0m\u001b[0mplot\u001b[0m\u001b[0;34m(\u001b[0m\u001b[0max\u001b[0m\u001b[0;34m=\u001b[0m\u001b[0mbase\u001b[0m\u001b[0;34m,\u001b[0m \u001b[0mmarker\u001b[0m\u001b[0;34m=\u001b[0m\u001b[0;34m'o'\u001b[0m\u001b[0;34m,\u001b[0m \u001b[0mcolumn\u001b[0m \u001b[0;34m=\u001b[0m\u001b[0;34m'mag'\u001b[0m\u001b[0;34m,\u001b[0m \u001b[0mcmap\u001b[0m \u001b[0;34m=\u001b[0m \u001b[0;34m'autumn'\u001b[0m\u001b[0;34m,\u001b[0m \u001b[0mmarkersize\u001b[0m \u001b[0;34m=\u001b[0m \u001b[0;36m7\u001b[0m\u001b[0;34m)\u001b[0m\u001b[0;34m;\u001b[0m\u001b[0;34m\u001b[0m\u001b[0m\n\u001b[1;32m      5\u001b[0m \u001b[0;31m# hist_eq_df.plot(ax=base, marker='*', color = 'blue', markersize = 10);\u001b[0m\u001b[0;34m\u001b[0m\u001b[0;34m\u001b[0m\u001b[0m\n",
      "\u001b[0;31mNameError\u001b[0m: name 'world' is not defined"
     ]
    }
   ],
   "source": [
    "pylab.rcParams['figure.figsize'] = 25, 25\n",
    "base = world.plot(color='black', edgecolor='grey')\n",
    "\n",
    "eq_df.plot(ax=base, marker='o', column ='mag', cmap = 'autumn', markersize = 7);\n",
    "# hist_eq_df.plot(ax=base, marker='*', color = 'blue', markersize = 10);\n",
    "# ax.set_axis_off()\n",
    "# f.suptitle('Last 1000 earthquakes with magnitude > 6')\n",
    "\n",
    "mplleaflet.show()"
   ]
  },
  {
   "cell_type": "code",
   "execution_count": 15,
   "metadata": {
    "collapsed": true
   },
   "outputs": [],
   "source": [
    "eq_df.plot(marker='o', column ='mag', cmap = 'autumn', markersize = 10);\n",
    "# hist_eq_df.plot(marker='*', color = 'blue', markersize = 10);\n",
    "# ax.set_axis_off()\n",
    "# f.suptitle('Last 1000 earthquakes with magnitude > 6')\n",
    "\n",
    "mplleaflet.show()"
   ]
  },
  {
   "cell_type": "code",
   "execution_count": null,
   "metadata": {
    "collapsed": true
   },
   "outputs": [],
   "source": []
  }
 ],
 "metadata": {
  "kernelspec": {
   "display_name": "Python 3",
   "language": "python",
   "name": "python3"
  },
  "language_info": {
   "codemirror_mode": {
    "name": "ipython",
    "version": 3
   },
   "file_extension": ".py",
   "mimetype": "text/x-python",
   "name": "python",
   "nbconvert_exporter": "python",
   "pygments_lexer": "ipython3",
   "version": "3.6.2"
  }
 },
 "nbformat": 4,
 "nbformat_minor": 2
}
